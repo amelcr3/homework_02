{
 "cells": [
  {
   "cell_type": "markdown",
   "metadata": {},
   "source": [
    "# Week 3 In-Class: Loops, Functions, and Classes\n",
    "\n",
    "In this notebook, you'll get some practice with the material you've been reading about, practicing, and discussing in class. Please don't change anything in the cells that say \"Don't change anything in this cell.\" Otherwise, fill in the cells with code to complete the assignments. Good luck!"
   ]
  },
  {
   "cell_type": "markdown",
   "metadata": {},
   "source": [
    "## Loops\n",
    "Let's practice loops. The first block of code is going to create a list of numbers from 1 to 30. You'll use that list in the first two problems."
   ]
  },
  {
   "cell_type": "code",
   "execution_count": 9,
   "metadata": {},
   "outputs": [],
   "source": [
    "# Don't change anything in this cell\n",
    "practice_list = list(range(1, 31))"
   ]
  },
  {
   "cell_type": "code",
   "execution_count": 28,
   "metadata": {},
   "outputs": [
    {
     "name": "stdout",
     "output_type": "stream",
     "text": [
      "1 is ODD\n",
      "2 is EVEN\n",
      "3 is WEIRD\n",
      "4 is EVEN\n",
      "5 is ODD\n",
      "6 is EVEN\n",
      "7 is ODD\n",
      "8 is EVEN\n",
      "9 is WEIRD\n",
      "10 is EVEN\n",
      "11 is ODD\n",
      "12 is EVEN\n",
      "13 is ODD\n",
      "14 is EVEN\n",
      "15 is WEIRD\n",
      "16 is EVEN\n",
      "17 is ODD\n",
      "18 is EVEN\n",
      "19 is ODD\n",
      "20 is EVEN\n",
      "21 is WEIRD\n",
      "22 is EVEN\n",
      "23 is ODD\n",
      "24 is EVEN\n",
      "25 is ODD\n",
      "26 is EVEN\n",
      "27 is WEIRD\n",
      "28 is EVEN\n",
      "29 is ODD\n",
      "30 is EVEN\n"
     ]
    }
   ],
   "source": [
    "# Problem 1\n",
    "# For every [number] in practice_list, do the following:\n",
    "# If the number is even, print '[number] is EVEN'\n",
    "# If the number is odd and not divisible by three, print '[number] is ODD'\n",
    "# If the number is odd and divisible by three, print '[number] is WEIRD'\n",
    "\n",
    "for number in practice_list:\n",
    "    if number % 2 == 0:\n",
    "        print(number,'is EVEN')\n",
    "    if number % 2 != 0 and number % 3 != 0:\n",
    "        print(number,'is ODD')\n",
    "    if number % 2 != 0 and number % 3 == 0:\n",
    "        print(number,'is WEIRD')"
   ]
  },
  {
   "cell_type": "markdown",
   "metadata": {},
   "source": [
    "Hoopefully you had some fun playing with loops and if statements. In the next problem, you'll need to use a loop to count how many numbers are odd and how many are even in the list.\n",
    "\n",
    "For example, if the list was [1, 2, 3, 4, 5], you'd print:\n",
    "<br>Number of even numbers : 2\n",
    "<br>Number of odd numbers : 3\n",
    "\n",
    "Hint: you'll have to think about keeping a count of the odds and evens as you go through the loop, and print them out when you're done."
   ]
  },
  {
   "cell_type": "code",
   "execution_count": 14,
   "metadata": {},
   "outputs": [
    {
     "name": "stdout",
     "output_type": "stream",
     "text": [
      "15\n",
      "15\n"
     ]
    }
   ],
   "source": [
    "# Problem 2\n",
    "# Print how many even numbers and how many odd numbers there are in practice_list\n",
    "\n",
    "even = 0\n",
    "odd = 0\n",
    "\n",
    "for i in practice_list:\n",
    "    if i % 2 == 0:\n",
    "        even += 1\n",
    "    if i % 2 != 0:\n",
    "        odd += 1\n",
    "\n",
    "print(even)\n",
    "print(odd)"
   ]
  },
  {
   "cell_type": "markdown",
   "metadata": {},
   "source": [
    "In the next question, write a loop to print the following pattern:\n",
    "<br>1\n",
    "<br>1 2\n",
    "<br>1 2 3\n",
    "<br>1 2 3 4 5"
   ]
  },
  {
   "cell_type": "code",
   "execution_count": 24,
   "metadata": {},
   "outputs": [
    {
     "ename": "SyntaxError",
     "evalue": "invalid syntax (<ipython-input-24-d803454db83c>, line 8)",
     "output_type": "error",
     "traceback": [
      "\u001b[1;36m  File \u001b[1;32m\"<ipython-input-24-d803454db83c>\"\u001b[1;36m, line \u001b[1;32m8\u001b[0m\n\u001b[1;33m    for i < 6:\u001b[0m\n\u001b[1;37m          ^\u001b[0m\n\u001b[1;31mSyntaxError\u001b[0m\u001b[1;31m:\u001b[0m invalid syntax\n"
     ]
    }
   ],
   "source": [
    "# Problem 3\n",
    "# Generate the pattern above\n",
    "\n",
    "count = 1\n",
    "i = 0\n",
    "j = 6\n",
    "\n",
    "while i < 6:\n",
    "    while j > 0:\n",
    "        print(i)\n",
    "        j -= 1\n",
    "    i += 1"
   ]
  },
  {
   "cell_type": "code",
   "execution_count": null,
   "metadata": {},
   "outputs": [],
   "source": [
    "# Problem 2 bonus: can you change your code to make the pattern go up to 9?"
   ]
  },
  {
   "cell_type": "markdown",
   "metadata": {},
   "source": [
    "## Functions\n",
    "\n",
    "Functions can be useful in situations where you find yourself typing the same code over and over again. In the next problem, we have 5 different lists containing a student's name and their grades in four of their classes. You'll need to print each student's name and their average grade. You could repeat the same code for all five students.... but see if you can do it with a function!"
   ]
  },
  {
   "cell_type": "code",
   "execution_count": 30,
   "metadata": {},
   "outputs": [],
   "source": [
    "# Don't change this block of code\n",
    "student_1 = ['Erica', 97, 95, 69, 77]\n",
    "student_2 = ['Jim', 70, 89, 83, 70]\n",
    "student_3 = ['Alex', 69, 86, 87, 65]\n",
    "student_4 = ['Lauren', 81, 86, 87, 65]\n",
    "student_5 = ['Dana', 84, 74, 84, 70]"
   ]
  },
  {
   "cell_type": "code",
   "execution_count": 37,
   "metadata": {},
   "outputs": [
    {
     "name": "stdout",
     "output_type": "stream",
     "text": [
      "Jim has an average score of 78.0\n"
     ]
    }
   ],
   "source": [
    "#Problem 2\n",
    "#For all five students, print \"[Student name] has an average score of [average grade]\"\n",
    "\n",
    "def test(student):\n",
    "    x = student[:]\n",
    "    x.pop(0)\n",
    "    avg = sum(x) / len(x)\n",
    "    print(student[0],'has an average score of',avg)\n",
    "\n",
    "test(student_2)"
   ]
  },
  {
   "cell_type": "markdown",
   "metadata": {},
   "source": [
    "Let's try a function to check if a year is a leap year.\n",
    "\n",
    "In the Gregorian calendar, three conditions are used to identify leap years:\n",
    "* The year can be evenly divided by 4, is a leap year, unless:\n",
    "* The year can be evenly divided by 100, it is NOT a leap year, unless:\n",
    "* The year is also evenly divisible by 400. Then it is a leap year.\n",
    "\n",
    "This means that in the Gregorian calendar, the years 2000 and 2400 are leap years, while 1800, 1900, 2100, 2200, 2300 and 2500 are NOT leap years. In the next problem, you'll write a function that determines whether a given year is a leap year.\n"
   ]
  },
  {
   "cell_type": "code",
   "execution_count": 57,
   "metadata": {},
   "outputs": [
    {
     "name": "stdout",
     "output_type": "stream",
     "text": [
      "Not a leap year\n"
     ]
    }
   ],
   "source": [
    "# Write a function that checks if a year is a leap year. \n",
    "# Find out if 1972, 1982, 1988, 1994, and 2000 were leap years.\n",
    "\n",
    "def leap_year(year):\n",
    "    if year % 4 == 0:\n",
    "        if year % 100 == 0:\n",
    "            if year % 400 == 0:\n",
    "                print('Leap year!')\n",
    "            else:\n",
    "                print('Not a leap year')\n",
    "        else:\n",
    "            print('Leap year!')\n",
    "    else:\n",
    "        print('Not a leap year')\n",
    "        \n",
    "leap_year(2500)"
   ]
  },
  {
   "cell_type": "markdown",
   "metadata": {},
   "source": [
    "If you got your function to work and asked a friend (or Google) if your answers were correct, good news! Your function and your knowledge of loops are both about to come in handy."
   ]
  },
  {
   "cell_type": "code",
   "execution_count": 59,
   "metadata": {},
   "outputs": [
    {
     "name": "stdout",
     "output_type": "stream",
     "text": [
      "[1904, 1908, 1912, 1916, 1920, 1924, 1928, 1932, 1936, 1940, 1944, 1948, 1952, 1956, 1960, 1964, 1968, 1972, 1976, 1980, 1984, 1988, 1992, 1996, 2000, 2004, 2008, 2012, 2016]\n"
     ]
    }
   ],
   "source": [
    "# Make a list called leap_years that contains every leap year from 1900 to 2020\n",
    "\n",
    "def leap_year(year):\n",
    "    if year % 4 == 0:\n",
    "        if year % 100 == 0:\n",
    "            if year % 400 == 0:\n",
    "                return True\n",
    "            else:\n",
    "                return False\n",
    "        else:\n",
    "            return True\n",
    "    else:\n",
    "        return False\n",
    "\n",
    "leap = []\n",
    "\n",
    "for i in range(1900,2020):\n",
    "    if leap_year(i) is True:\n",
    "        leap.append(i)\n",
    "\n",
    "print(leap)"
   ]
  },
  {
   "cell_type": "markdown",
   "metadata": {},
   "source": [
    "## Classes"
   ]
  },
  {
   "cell_type": "code",
   "execution_count": null,
   "metadata": {},
   "outputs": [],
   "source": []
  }
 ],
 "metadata": {
  "kernelspec": {
   "display_name": "Python 3",
   "language": "python",
   "name": "python3"
  },
  "language_info": {
   "codemirror_mode": {
    "name": "ipython",
    "version": 3
   },
   "file_extension": ".py",
   "mimetype": "text/x-python",
   "name": "python",
   "nbconvert_exporter": "python",
   "pygments_lexer": "ipython3",
   "version": "3.7.8"
  }
 },
 "nbformat": 4,
 "nbformat_minor": 4
}
